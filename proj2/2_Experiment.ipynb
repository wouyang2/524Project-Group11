{
 "cells": [
  {
   "cell_type": "markdown",
   "id": "2a788780-66c4-45f0-bb89-6ebbdb6322c7",
   "metadata": {},
   "source": [
    "# Experiment Notebook\n",
    "\n",
    "This notebook will contain the steps to run the experiments for this."
   ]
  },
  {
   "cell_type": "code",
   "execution_count": 101,
   "id": "013183da-e400-42ae-b48c-eee3c9a7f7b4",
   "metadata": {},
   "outputs": [],
   "source": [
    "import logging\n",
    "import pyarrow as pa\n",
    "import pyarrow.parquet as pq\n",
    "import pandas as pd\n",
    "import random\n",
    "\n",
    "from dataset_handling import book_train_test_split, load_dataset\n",
    "\n",
    "LOGGER_NAME = \"proj2_logger\"\n",
    "\n",
    "class Model:\n",
    "    def __init__(self, df: pd.DataFrame):\n",
    "        self.logger = logging.getLogger(LOGGER_NAME)\n",
    "\n",
    "    def create_features(self, df: pd.DataFrame):\n",
    "        raise NotImplementedError(\"Function was not implemented in subclass\")\n",
    "    def fit(self) -> None:\n",
    "        raise NotImplementedError(\"Function was not implemented in subclass\")\n",
    "    def predict(self) -> []:\n",
    "        raise NotImplementedError(\"Function was not implemented in subclass\")\n",
    "\n",
    "class TransformerModel(Model):\n",
    "    def create_features(self, df: pd.DataFrame):\n",
    "        return None\n",
    "        # perform train-test-split\n",
    "    def fit(self):\n",
    "        # fit transformer\n",
    "        return None\n",
    "    def predict(self):\n",
    "        # run tests, return metrics\n",
    "        return None\n",
    "\n",
    "class ClassicalModels(Model):\n",
    "    def create_features(self, df: pd.DataFrame):\n",
    "        # create tf-idf and word embedding datasets\n",
    "        return None\n",
    "    def fit(self):\n",
    "        # fit models\n",
    "        return None\n",
    "    def predict(self):\n",
    "        # run all models and return metrics\n",
    "        return None\n",
    "\n",
    "def experiment(datafile_path='data/dataset.parquet'):\n",
    "    # load dataset\n",
    "    # run train-test-split on df (will produce label column)\n",
    "    df = book_train_test_split(load_dataset())\n",
    "    models = [TransformerModel(), ClassicalModels()]\n",
    "    metrics = []\n",
    "    for model in models:\n",
    "        model.create_features(df)\n",
    "        model.fit()\n",
    "        metrics += model.predict()\n",
    "\n",
    "    metrics_df = pd.DataFrame(metrics, columns=['model_name', 'data_type', 'time', 'accuracy'])\n",
    "        "
   ]
  }
 ],
 "metadata": {
  "kernelspec": {
   "display_name": "Python 3 (ipykernel)",
   "language": "python",
   "name": "python3"
  },
  "language_info": {
   "codemirror_mode": {
    "name": "ipython",
    "version": 3
   },
   "file_extension": ".py",
   "mimetype": "text/x-python",
   "name": "python",
   "nbconvert_exporter": "python",
   "pygments_lexer": "ipython3",
   "version": "3.10.12"
  }
 },
 "nbformat": 4,
 "nbformat_minor": 5
}
